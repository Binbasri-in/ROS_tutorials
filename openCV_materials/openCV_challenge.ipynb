{
 "cells": [
  {
   "attachments": {},
   "cell_type": "markdown",
   "metadata": {},
   "source": [
    "# Challenge: practice simple detection using openCV"
   ]
  },
  {
   "attachments": {},
   "cell_type": "markdown",
   "metadata": {},
   "source": [
    "#### the following are two images for pepper, your objective is to detect both the yellow and the red peppers and draw a bounding box around them with center point marked\n",
    "\n",
    "Here is the first image in path `./input/challenge1.jpg`:\n",
    "![challenge1](./input/challenge1.jpg)\n",
    "\n",
    "Here is the second image in path `./input/challenge2.jpg`:\n",
    "![challenge2](./input/challenge2.jpg)"
   ]
  },
  {
   "cell_type": "code",
   "execution_count": null,
   "metadata": {
    "vscode": {
     "languageId": "plaintext"
    }
   },
   "outputs": [],
   "source": []
  }
 ],
 "metadata": {
  "language_info": {
   "name": "python"
  },
  "orig_nbformat": 4
 },
 "nbformat": 4,
 "nbformat_minor": 2
}
